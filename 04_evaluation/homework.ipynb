{
 "cells": [
  {
   "cell_type": "markdown",
   "id": "9796c003",
   "metadata": {},
   "source": [
    "### Load required packages and data"
   ]
  },
  {
   "cell_type": "code",
   "execution_count": 1,
   "id": "771a0b0f",
   "metadata": {},
   "outputs": [],
   "source": [
    "import pandas as pd\n",
    "import numpy as np\n",
    "import matplotlib.pyplot as plt\n",
    "%matplotlib inline"
   ]
  },
  {
   "cell_type": "code",
   "execution_count": 2,
   "id": "4de64b5c",
   "metadata": {},
   "outputs": [
    {
     "data": {
      "application/vnd.microsoft.datawrangler.viewer.v0+json": {
       "columns": [
        {
         "name": "index",
         "rawType": "int64",
         "type": "integer"
        },
        {
         "name": "lead_source",
         "rawType": "object",
         "type": "unknown"
        },
        {
         "name": "industry",
         "rawType": "object",
         "type": "unknown"
        },
        {
         "name": "number_of_courses_viewed",
         "rawType": "int64",
         "type": "integer"
        },
        {
         "name": "annual_income",
         "rawType": "float64",
         "type": "float"
        },
        {
         "name": "employment_status",
         "rawType": "object",
         "type": "unknown"
        },
        {
         "name": "location",
         "rawType": "object",
         "type": "unknown"
        },
        {
         "name": "interaction_count",
         "rawType": "int64",
         "type": "integer"
        },
        {
         "name": "lead_score",
         "rawType": "float64",
         "type": "float"
        },
        {
         "name": "converted",
         "rawType": "int64",
         "type": "integer"
        }
       ],
       "ref": "f97f405f-9683-4b59-842f-41ed8514921f",
       "rows": [
        [
         "0",
         "paid_ads",
         null,
         "1",
         "79450.0",
         "unemployed",
         "south_america",
         "4",
         "0.94",
         "1"
        ],
        [
         "1",
         "social_media",
         "retail",
         "1",
         "46992.0",
         "employed",
         "south_america",
         "1",
         "0.8",
         "0"
        ],
        [
         "2",
         "events",
         "healthcare",
         "5",
         "78796.0",
         "unemployed",
         "australia",
         "3",
         "0.69",
         "1"
        ],
        [
         "3",
         "paid_ads",
         "retail",
         "2",
         "83843.0",
         null,
         "australia",
         "1",
         "0.87",
         "0"
        ],
        [
         "4",
         "referral",
         "education",
         "3",
         "85012.0",
         "self_employed",
         "europe",
         "3",
         "0.62",
         "1"
        ],
        [
         "5",
         "events",
         "manufacturing",
         "1",
         "59904.0",
         null,
         "africa",
         "6",
         "0.83",
         "1"
        ],
        [
         "6",
         "social_media",
         "technology",
         "0",
         "51283.0",
         null,
         "middle_east",
         "2",
         "0.57",
         "0"
        ],
        [
         "7",
         "social_media",
         null,
         "5",
         "62975.0",
         "student",
         "europe",
         "4",
         "0.62",
         "1"
        ],
        [
         "8",
         "referral",
         "healthcare",
         "4",
         "38648.0",
         "unemployed",
         "south_america",
         "2",
         "0.86",
         "1"
        ],
        [
         "9",
         "paid_ads",
         "other",
         "3",
         "59866.0",
         "student",
         "australia",
         "3",
         "0.43",
         "1"
        ],
        [
         "10",
         "paid_ads",
         "retail",
         "2",
         "79276.0",
         "employed",
         "middle_east",
         "2",
         "0.92",
         "1"
        ],
        [
         "11",
         "organic_search",
         "finance",
         "4",
         "80304.0",
         "self_employed",
         null,
         "3",
         "0.97",
         "1"
        ],
        [
         "12",
         "organic_search",
         null,
         "2",
         "55615.0",
         "self_employed",
         "middle_east",
         "6",
         "0.71",
         "1"
        ],
        [
         "13",
         "social_media",
         "other",
         "3",
         "55438.0",
         null,
         "middle_east",
         "1",
         "0.69",
         "0"
        ],
        [
         "14",
         "paid_ads",
         "healthcare",
         "3",
         null,
         "unemployed",
         "middle_east",
         "4",
         "0.75",
         "1"
        ],
        [
         "15",
         "referral",
         "healthcare",
         "2",
         "56004.0",
         "student",
         "middle_east",
         "0",
         "0.64",
         "0"
        ],
        [
         "16",
         "referral",
         "retail",
         "0",
         "54612.0",
         "self_employed",
         "europe",
         "4",
         "0.86",
         "1"
        ],
        [
         "17",
         "referral",
         "other",
         "2",
         "92470.0",
         "unemployed",
         "europe",
         "4",
         "0.74",
         "1"
        ],
        [
         "18",
         "referral",
         "manufacturing",
         "2",
         "74380.0",
         "self_employed",
         null,
         "5",
         "0.51",
         "1"
        ],
        [
         "19",
         "paid_ads",
         null,
         "2",
         "62809.0",
         "self_employed",
         "europe",
         "5",
         "0.33",
         "1"
        ],
        [
         "20",
         "social_media",
         "technology",
         "4",
         "62067.0",
         "student",
         "north_america",
         "4",
         "0.43",
         "1"
        ],
        [
         "21",
         "social_media",
         "retail",
         "2",
         "56594.0",
         "student",
         "europe",
         "1",
         "0.2",
         "0"
        ],
        [
         "22",
         "referral",
         "other",
         "3",
         "72729.0",
         "student",
         "middle_east",
         "3",
         "0.6",
         "1"
        ],
        [
         "23",
         "events",
         "retail",
         "1",
         "94862.0",
         "unemployed",
         "africa",
         "5",
         "0.49",
         "1"
        ],
        [
         "24",
         "organic_search",
         "education",
         "0",
         "68182.0",
         "employed",
         "south_america",
         "4",
         "0.55",
         "1"
        ],
        [
         "25",
         "organic_search",
         "finance",
         "0",
         "51159.0",
         "employed",
         "europe",
         "1",
         "0.68",
         "0"
        ],
        [
         "26",
         "referral",
         "healthcare",
         "2",
         "46268.0",
         "employed",
         "north_america",
         "3",
         "0.63",
         "1"
        ],
        [
         "27",
         "social_media",
         "other",
         "3",
         "63133.0",
         "unemployed",
         "north_america",
         "3",
         "0.82",
         "1"
        ],
        [
         "28",
         "referral",
         "other",
         "2",
         "57767.0",
         "student",
         "europe",
         "3",
         "0.2",
         "1"
        ],
        [
         "29",
         "referral",
         "finance",
         "1",
         "73420.0",
         "unemployed",
         null,
         "3",
         "0.48",
         "1"
        ],
        [
         "30",
         "paid_ads",
         "finance",
         "4",
         "60617.0",
         "self_employed",
         "north_america",
         "0",
         "0.54",
         "1"
        ],
        [
         "31",
         "events",
         "other",
         "1",
         "66476.0",
         "self_employed",
         "africa",
         "0",
         "0.46",
         "0"
        ],
        [
         "32",
         "referral",
         null,
         "5",
         "43704.0",
         "employed",
         "australia",
         "4",
         "0.26",
         "1"
        ],
        [
         "33",
         "events",
         "healthcare",
         "3",
         "54547.0",
         "employed",
         "africa",
         "3",
         "0.9",
         "1"
        ],
        [
         "34",
         "events",
         "other",
         "3",
         "59157.0",
         "student",
         "south_america",
         "2",
         "0.79",
         "0"
        ],
        [
         "35",
         "organic_search",
         null,
         "4",
         "63220.0",
         "unemployed",
         "north_america",
         "4",
         "0.21",
         "1"
        ],
        [
         "36",
         "organic_search",
         "healthcare",
         "1",
         "54186.0",
         null,
         "north_america",
         "2",
         "0.87",
         "0"
        ],
        [
         "37",
         null,
         "other",
         "1",
         "51207.0",
         "student",
         "middle_east",
         "0",
         "0.52",
         "0"
        ],
        [
         "38",
         "social_media",
         "healthcare",
         "5",
         "85005.0",
         null,
         "asia",
         "0",
         "0.49",
         "1"
        ],
        [
         "39",
         null,
         "other",
         "5",
         "67314.0",
         null,
         "europe",
         "2",
         "0.87",
         "1"
        ],
        [
         "40",
         "social_media",
         "healthcare",
         "1",
         "78509.0",
         "student",
         "north_america",
         "5",
         "0.75",
         "1"
        ],
        [
         "41",
         null,
         "manufacturing",
         "6",
         "59886.0",
         "employed",
         "asia",
         "5",
         "0.82",
         "1"
        ],
        [
         "42",
         "paid_ads",
         "retail",
         "2",
         "65854.0",
         "employed",
         "africa",
         "3",
         "0.81",
         "1"
        ],
        [
         "43",
         "social_media",
         "healthcare",
         "1",
         "61602.0",
         "student",
         "middle_east",
         "5",
         "0.06",
         "0"
        ],
        [
         "44",
         "social_media",
         "technology",
         "3",
         "63854.0",
         "employed",
         "africa",
         "1",
         "0.1",
         "0"
        ],
        [
         "45",
         "social_media",
         "education",
         "2",
         "47767.0",
         "unemployed",
         "europe",
         "1",
         "0.02",
         "0"
        ],
        [
         "46",
         "social_media",
         "education",
         "2",
         "60886.0",
         "student",
         "asia",
         "1",
         "0.15",
         "0"
        ],
        [
         "47",
         null,
         "other",
         "2",
         "57246.0",
         "self_employed",
         "asia",
         "1",
         "0.27",
         "1"
        ],
        [
         "48",
         "events",
         null,
         "4",
         "40529.0",
         "student",
         "north_america",
         "5",
         "0.21",
         "1"
        ],
        [
         "49",
         "events",
         null,
         "3",
         "53077.0",
         "unemployed",
         "north_america",
         "4",
         "0.08",
         "1"
        ]
       ],
       "shape": {
        "columns": 9,
        "rows": 1462
       }
      },
      "text/html": [
       "<div>\n",
       "<style scoped>\n",
       "    .dataframe tbody tr th:only-of-type {\n",
       "        vertical-align: middle;\n",
       "    }\n",
       "\n",
       "    .dataframe tbody tr th {\n",
       "        vertical-align: top;\n",
       "    }\n",
       "\n",
       "    .dataframe thead th {\n",
       "        text-align: right;\n",
       "    }\n",
       "</style>\n",
       "<table border=\"1\" class=\"dataframe\">\n",
       "  <thead>\n",
       "    <tr style=\"text-align: right;\">\n",
       "      <th></th>\n",
       "      <th>lead_source</th>\n",
       "      <th>industry</th>\n",
       "      <th>number_of_courses_viewed</th>\n",
       "      <th>annual_income</th>\n",
       "      <th>employment_status</th>\n",
       "      <th>location</th>\n",
       "      <th>interaction_count</th>\n",
       "      <th>lead_score</th>\n",
       "      <th>converted</th>\n",
       "    </tr>\n",
       "  </thead>\n",
       "  <tbody>\n",
       "    <tr>\n",
       "      <th>0</th>\n",
       "      <td>paid_ads</td>\n",
       "      <td>NaN</td>\n",
       "      <td>1</td>\n",
       "      <td>79450.0</td>\n",
       "      <td>unemployed</td>\n",
       "      <td>south_america</td>\n",
       "      <td>4</td>\n",
       "      <td>0.94</td>\n",
       "      <td>1</td>\n",
       "    </tr>\n",
       "    <tr>\n",
       "      <th>1</th>\n",
       "      <td>social_media</td>\n",
       "      <td>retail</td>\n",
       "      <td>1</td>\n",
       "      <td>46992.0</td>\n",
       "      <td>employed</td>\n",
       "      <td>south_america</td>\n",
       "      <td>1</td>\n",
       "      <td>0.80</td>\n",
       "      <td>0</td>\n",
       "    </tr>\n",
       "    <tr>\n",
       "      <th>2</th>\n",
       "      <td>events</td>\n",
       "      <td>healthcare</td>\n",
       "      <td>5</td>\n",
       "      <td>78796.0</td>\n",
       "      <td>unemployed</td>\n",
       "      <td>australia</td>\n",
       "      <td>3</td>\n",
       "      <td>0.69</td>\n",
       "      <td>1</td>\n",
       "    </tr>\n",
       "    <tr>\n",
       "      <th>3</th>\n",
       "      <td>paid_ads</td>\n",
       "      <td>retail</td>\n",
       "      <td>2</td>\n",
       "      <td>83843.0</td>\n",
       "      <td>NaN</td>\n",
       "      <td>australia</td>\n",
       "      <td>1</td>\n",
       "      <td>0.87</td>\n",
       "      <td>0</td>\n",
       "    </tr>\n",
       "    <tr>\n",
       "      <th>4</th>\n",
       "      <td>referral</td>\n",
       "      <td>education</td>\n",
       "      <td>3</td>\n",
       "      <td>85012.0</td>\n",
       "      <td>self_employed</td>\n",
       "      <td>europe</td>\n",
       "      <td>3</td>\n",
       "      <td>0.62</td>\n",
       "      <td>1</td>\n",
       "    </tr>\n",
       "    <tr>\n",
       "      <th>...</th>\n",
       "      <td>...</td>\n",
       "      <td>...</td>\n",
       "      <td>...</td>\n",
       "      <td>...</td>\n",
       "      <td>...</td>\n",
       "      <td>...</td>\n",
       "      <td>...</td>\n",
       "      <td>...</td>\n",
       "      <td>...</td>\n",
       "    </tr>\n",
       "    <tr>\n",
       "      <th>1457</th>\n",
       "      <td>referral</td>\n",
       "      <td>manufacturing</td>\n",
       "      <td>1</td>\n",
       "      <td>NaN</td>\n",
       "      <td>self_employed</td>\n",
       "      <td>north_america</td>\n",
       "      <td>4</td>\n",
       "      <td>0.53</td>\n",
       "      <td>1</td>\n",
       "    </tr>\n",
       "    <tr>\n",
       "      <th>1458</th>\n",
       "      <td>referral</td>\n",
       "      <td>technology</td>\n",
       "      <td>3</td>\n",
       "      <td>65259.0</td>\n",
       "      <td>student</td>\n",
       "      <td>europe</td>\n",
       "      <td>2</td>\n",
       "      <td>0.24</td>\n",
       "      <td>1</td>\n",
       "    </tr>\n",
       "    <tr>\n",
       "      <th>1459</th>\n",
       "      <td>paid_ads</td>\n",
       "      <td>technology</td>\n",
       "      <td>1</td>\n",
       "      <td>45688.0</td>\n",
       "      <td>student</td>\n",
       "      <td>north_america</td>\n",
       "      <td>3</td>\n",
       "      <td>0.02</td>\n",
       "      <td>1</td>\n",
       "    </tr>\n",
       "    <tr>\n",
       "      <th>1460</th>\n",
       "      <td>referral</td>\n",
       "      <td>NaN</td>\n",
       "      <td>5</td>\n",
       "      <td>71016.0</td>\n",
       "      <td>self_employed</td>\n",
       "      <td>north_america</td>\n",
       "      <td>0</td>\n",
       "      <td>0.25</td>\n",
       "      <td>1</td>\n",
       "    </tr>\n",
       "    <tr>\n",
       "      <th>1461</th>\n",
       "      <td>organic_search</td>\n",
       "      <td>finance</td>\n",
       "      <td>3</td>\n",
       "      <td>92855.0</td>\n",
       "      <td>student</td>\n",
       "      <td>north_america</td>\n",
       "      <td>3</td>\n",
       "      <td>0.41</td>\n",
       "      <td>1</td>\n",
       "    </tr>\n",
       "  </tbody>\n",
       "</table>\n",
       "<p>1462 rows × 9 columns</p>\n",
       "</div>"
      ],
      "text/plain": [
       "         lead_source       industry  number_of_courses_viewed  annual_income  \\\n",
       "0           paid_ads            NaN                         1        79450.0   \n",
       "1       social_media         retail                         1        46992.0   \n",
       "2             events     healthcare                         5        78796.0   \n",
       "3           paid_ads         retail                         2        83843.0   \n",
       "4           referral      education                         3        85012.0   \n",
       "...              ...            ...                       ...            ...   \n",
       "1457        referral  manufacturing                         1            NaN   \n",
       "1458        referral     technology                         3        65259.0   \n",
       "1459        paid_ads     technology                         1        45688.0   \n",
       "1460        referral            NaN                         5        71016.0   \n",
       "1461  organic_search        finance                         3        92855.0   \n",
       "\n",
       "     employment_status       location  interaction_count  lead_score  \\\n",
       "0           unemployed  south_america                  4        0.94   \n",
       "1             employed  south_america                  1        0.80   \n",
       "2           unemployed      australia                  3        0.69   \n",
       "3                  NaN      australia                  1        0.87   \n",
       "4        self_employed         europe                  3        0.62   \n",
       "...                ...            ...                ...         ...   \n",
       "1457     self_employed  north_america                  4        0.53   \n",
       "1458           student         europe                  2        0.24   \n",
       "1459           student  north_america                  3        0.02   \n",
       "1460     self_employed  north_america                  0        0.25   \n",
       "1461           student  north_america                  3        0.41   \n",
       "\n",
       "      converted  \n",
       "0             1  \n",
       "1             0  \n",
       "2             1  \n",
       "3             0  \n",
       "4             1  \n",
       "...         ...  \n",
       "1457          1  \n",
       "1458          1  \n",
       "1459          1  \n",
       "1460          1  \n",
       "1461          1  \n",
       "\n",
       "[1462 rows x 9 columns]"
      ]
     },
     "execution_count": 2,
     "metadata": {},
     "output_type": "execute_result"
    }
   ],
   "source": [
    "data = pd.read_csv('https://raw.githubusercontent.com/alexeygrigorev/datasets/master/course_lead_scoring.csv')\n",
    "data"
   ]
  },
  {
   "cell_type": "markdown",
   "id": "e2a9fbdb",
   "metadata": {},
   "source": [
    "### Data preparation\n",
    "\n",
    "Check if the missing values are presented in the features.\n",
    "If there are missing values:\n",
    "- For caterogiral features, replace them with 'NA'\n",
    "- For numerical features, replace with with 0.0\n",
    "\n",
    "Split the data into 3 parts: train/validation/test with 60%/20%/20% distribution. Use <code>train_test_split</code> function for that with <code>random_state=1</code>."
   ]
  },
  {
   "cell_type": "code",
   "execution_count": 3,
   "id": "4a3edcea",
   "metadata": {},
   "outputs": [],
   "source": [
    "from sklearn.model_selection import train_test_split"
   ]
  },
  {
   "cell_type": "code",
   "execution_count": 4,
   "id": "89e79808",
   "metadata": {},
   "outputs": [
    {
     "data": {
      "application/vnd.microsoft.datawrangler.viewer.v0+json": {
       "columns": [
        {
         "name": "index",
         "rawType": "object",
         "type": "string"
        },
        {
         "name": "0",
         "rawType": "int64",
         "type": "integer"
        }
       ],
       "ref": "37a33100-0326-4752-bb91-5f0856876de2",
       "rows": [
        [
         "lead_source",
         "128"
        ],
        [
         "industry",
         "134"
        ],
        [
         "number_of_courses_viewed",
         "0"
        ],
        [
         "annual_income",
         "181"
        ],
        [
         "employment_status",
         "100"
        ],
        [
         "location",
         "63"
        ],
        [
         "interaction_count",
         "0"
        ],
        [
         "lead_score",
         "0"
        ],
        [
         "converted",
         "0"
        ]
       ],
       "shape": {
        "columns": 1,
        "rows": 9
       }
      },
      "text/plain": [
       "lead_source                 128\n",
       "industry                    134\n",
       "number_of_courses_viewed      0\n",
       "annual_income               181\n",
       "employment_status           100\n",
       "location                     63\n",
       "interaction_count             0\n",
       "lead_score                    0\n",
       "converted                     0\n",
       "dtype: int64"
      ]
     },
     "execution_count": 4,
     "metadata": {},
     "output_type": "execute_result"
    }
   ],
   "source": [
    "data.isnull().sum()"
   ]
  },
  {
   "cell_type": "code",
   "execution_count": 5,
   "id": "6c3c681f",
   "metadata": {},
   "outputs": [
    {
     "data": {
      "application/vnd.microsoft.datawrangler.viewer.v0+json": {
       "columns": [
        {
         "name": "index",
         "rawType": "object",
         "type": "string"
        },
        {
         "name": "0",
         "rawType": "object",
         "type": "unknown"
        }
       ],
       "ref": "8c560ca3-c672-4935-80ba-179dde59c2b2",
       "rows": [
        [
         "lead_source",
         "object"
        ],
        [
         "industry",
         "object"
        ],
        [
         "number_of_courses_viewed",
         "int64"
        ],
        [
         "annual_income",
         "float64"
        ],
        [
         "employment_status",
         "object"
        ],
        [
         "location",
         "object"
        ],
        [
         "interaction_count",
         "int64"
        ],
        [
         "lead_score",
         "float64"
        ],
        [
         "converted",
         "int64"
        ]
       ],
       "shape": {
        "columns": 1,
        "rows": 9
       }
      },
      "text/plain": [
       "lead_source                  object\n",
       "industry                     object\n",
       "number_of_courses_viewed      int64\n",
       "annual_income               float64\n",
       "employment_status            object\n",
       "location                     object\n",
       "interaction_count             int64\n",
       "lead_score                  float64\n",
       "converted                     int64\n",
       "dtype: object"
      ]
     },
     "execution_count": 5,
     "metadata": {},
     "output_type": "execute_result"
    }
   ],
   "source": [
    "data.dtypes"
   ]
  },
  {
   "cell_type": "code",
   "execution_count": 6,
   "id": "45d58bc1",
   "metadata": {},
   "outputs": [
    {
     "data": {
      "application/vnd.microsoft.datawrangler.viewer.v0+json": {
       "columns": [
        {
         "name": "index",
         "rawType": "object",
         "type": "string"
        },
        {
         "name": "0",
         "rawType": "int64",
         "type": "integer"
        }
       ],
       "ref": "eb69ed47-80f1-4d7d-a5cf-f4d217952765",
       "rows": [
        [
         "lead_source",
         "0"
        ],
        [
         "industry",
         "0"
        ],
        [
         "number_of_courses_viewed",
         "0"
        ],
        [
         "annual_income",
         "0"
        ],
        [
         "employment_status",
         "0"
        ],
        [
         "location",
         "0"
        ],
        [
         "interaction_count",
         "0"
        ],
        [
         "lead_score",
         "0"
        ],
        [
         "converted",
         "0"
        ]
       ],
       "shape": {
        "columns": 1,
        "rows": 9
       }
      },
      "text/plain": [
       "lead_source                 0\n",
       "industry                    0\n",
       "number_of_courses_viewed    0\n",
       "annual_income               0\n",
       "employment_status           0\n",
       "location                    0\n",
       "interaction_count           0\n",
       "lead_score                  0\n",
       "converted                   0\n",
       "dtype: int64"
      ]
     },
     "execution_count": 6,
     "metadata": {},
     "output_type": "execute_result"
    }
   ],
   "source": [
    "data.fillna({'lead_source': 'NA', 'industry': 'NA', 'annual_income': 0, 'employment_status': 'NA', 'location': 'NA'}, inplace = True)\n",
    "data.isnull().sum()"
   ]
  },
  {
   "cell_type": "code",
   "execution_count": 7,
   "id": "cea35da6",
   "metadata": {},
   "outputs": [],
   "source": [
    "numerical_variables = ['number_of_courses_viewed', 'annual_income', 'interaction_count', 'lead_score']\n",
    "categorical_variables = ['lead_source', 'industry', 'employment_status', 'location']\n",
    "target_variable = ['converted']"
   ]
  },
  {
   "cell_type": "code",
   "execution_count": 8,
   "id": "228411cc",
   "metadata": {},
   "outputs": [
    {
     "data": {
      "text/plain": [
       "((876, 9), (293, 9), (293, 9))"
      ]
     },
     "execution_count": 8,
     "metadata": {},
     "output_type": "execute_result"
    }
   ],
   "source": [
    "data_train_full, data_test = train_test_split(data, test_size = 0.2, train_size = 0.8, random_state = 1)\n",
    "data_train, data_val = train_test_split(data_train_full, test_size = 0.25, random_state = 1)\n",
    "data_train.shape, data_val.shape, data_test.shape"
   ]
  },
  {
   "cell_type": "code",
   "execution_count": 9,
   "id": "48d249a7",
   "metadata": {},
   "outputs": [],
   "source": [
    "# reset indices\n",
    "data_train_full.reset_index(drop = True, inplace = True)\n",
    "data_train.reset_index(drop = True, inplace = True)\n",
    "data_val.reset_index(drop = True, inplace = True)\n",
    "data_test.reset_index(drop = True, inplace = True)"
   ]
  },
  {
   "cell_type": "code",
   "execution_count": 10,
   "id": "184888bc",
   "metadata": {},
   "outputs": [],
   "source": [
    "# get target variables\n",
    "y_train_full = data_train_full.converted.values\n",
    "y_train = data_train.converted.values\n",
    "y_val = data_val.converted.values\n",
    "y_test = data_test.converted.values"
   ]
  },
  {
   "cell_type": "code",
   "execution_count": 11,
   "id": "4576a69e",
   "metadata": {},
   "outputs": [],
   "source": [
    "# delete y from dataset -> this avoids accidentally adding variable to model\n",
    "del data_train['converted']\n",
    "del data_val['converted']\n",
    "del data_test['converted']"
   ]
  },
  {
   "cell_type": "markdown",
   "id": "cfa29e20",
   "metadata": {},
   "source": [
    "### Question 1: ROC AUC feature importance\n",
    "\n",
    "ROC AUC could also be used to evaluate feature importance of numerical variables.\n",
    "\n",
    "Let's do that\n",
    "- For each numerical variable, use it as score (aka prediction) and compute the AUC with the y variable as ground truth.\n",
    "- Use the training dataset for that\n",
    "\n",
    "If your AUC is < 0.5, invert this variable by putting \"-\" in front.\n",
    "\n",
    "AUC can go below 0.5 if the variable is negatively correlated with the target variable. You can change the direction of the correlation by negating this variable - then negative correlation becomes positive.\n",
    "\n",
    "Which numerical variable (among the following 4) has the highest AUC?"
   ]
  },
  {
   "cell_type": "code",
   "execution_count": 12,
   "id": "d9393d7c",
   "metadata": {},
   "outputs": [],
   "source": [
    "from sklearn.metrics import roc_auc_score"
   ]
  },
  {
   "cell_type": "code",
   "execution_count": 13,
   "id": "5d0f5ce5",
   "metadata": {},
   "outputs": [
    {
     "name": "stdout",
     "output_type": "stream",
     "text": [
      "AUC for number_of_courses_viewed is 0.764\n",
      "AUC for annual_income is 0.552\n",
      "AUC for interaction_count is 0.738\n",
      "AUC for lead_score is 0.614\n"
     ]
    }
   ],
   "source": [
    "for variable in numerical_variables:\n",
    "    variable_auc = roc_auc_score(y_train, data_train[variable])\n",
    "    print(f\"AUC for {variable} is {round(variable_auc, 3)}\")"
   ]
  },
  {
   "cell_type": "code",
   "execution_count": 14,
   "id": "907ed162",
   "metadata": {},
   "outputs": [
    {
     "name": "stdout",
     "output_type": "stream",
     "text": [
      "AUC for negated number_of_courses_viewed is 0.236\n",
      "AUC for negated annual_income is 0.448\n",
      "AUC for negated interaction_count is 0.262\n",
      "AUC for negated lead_score is 0.386\n"
     ]
    }
   ],
   "source": [
    "for variable in numerical_variables:\n",
    "    variable_auc = roc_auc_score(y_train, -data_train[variable])\n",
    "    print(f\"AUC for negated {variable} is {round(variable_auc, 3)}\")"
   ]
  },
  {
   "cell_type": "markdown",
   "id": "10388559",
   "metadata": {},
   "source": [
    "### Question 2: Training the model\n",
    "\n",
    "Apply one-hot-encoding using DictVectorizer and train the logistic regression with these parameters:\n",
    "\n",
    "<code>LogisticRegression(solver='liblinear', C=1.0, max_iter=1000)</code>\n",
    "\n",
    "What's the AUC of this model on the validation dataset? (round to 3 digits)"
   ]
  },
  {
   "cell_type": "code",
   "execution_count": 15,
   "id": "708e9aac",
   "metadata": {},
   "outputs": [],
   "source": [
    "from sklearn.feature_extraction import DictVectorizer\n",
    "from sklearn.linear_model import LogisticRegression"
   ]
  },
  {
   "cell_type": "code",
   "execution_count": 16,
   "id": "e6f693f8",
   "metadata": {},
   "outputs": [
    {
     "data": {
      "text/plain": [
       "0.9200460166810468"
      ]
     },
     "execution_count": 16,
     "metadata": {},
     "output_type": "execute_result"
    }
   ],
   "source": [
    "train_dicts = data_train[categorical_variables + numerical_variables].to_dict(orient='records')\n",
    "dv = DictVectorizer(sparse=False)\n",
    "X_train = dv.fit_transform(train_dicts)\n",
    "\n",
    "model = LogisticRegression(solver='lbfgs', C=1, max_iter=1000)\n",
    "model.fit(X_train, y_train)\n",
    "\n",
    "val_dicts = data_val[categorical_variables + numerical_variables].to_dict(orient='records')\n",
    "X_val = dv.transform(val_dicts)\n",
    "y_val_pred_prod = model.predict_proba(X_val)[:, 1]\n",
    "\n",
    "val_auc = roc_auc_score(y_val, y_val_pred_prod)\n",
    "val_auc"
   ]
  },
  {
   "cell_type": "markdown",
   "id": "1e2e0717",
   "metadata": {},
   "source": [
    "### Question 3: Precision and Recall\n",
    "\n",
    "Now let's compute precision and recall for our model.\n",
    "- Evaluate the model on all thresholds from 0.0 to 1.0 with step 0.01\n",
    "- For each threshold, compute precision and recall\n",
    "- Plot them\n",
    "\n",
    "At which threshold precision and recall curves intersect?"
   ]
  },
  {
   "cell_type": "code",
   "execution_count": 17,
   "id": "c7c63d26",
   "metadata": {},
   "outputs": [
    {
     "data": {
      "text/plain": [
       "<matplotlib.legend.Legend at 0x20064bdd9d0>"
      ]
     },
     "execution_count": 17,
     "metadata": {},
     "output_type": "execute_result"
    },
    {
     "data": {
      "image/png": "[encoded data removed]",
      "text/plain": [
       "<Figure size 640x480 with 1 Axes>"
      ]
     },
     "metadata": {},
     "output_type": "display_data"
    }
   ],
   "source": [
    "thresholds = np.arange(0, 1.01, 0.01)\n",
    "true_positives = []\n",
    "true_negatives = []\n",
    "false_positives = []\n",
    "false_negatives = []\n",
    "actual_positive = (y_val == 1)\n",
    "actual_negative = (y_val == 0)\n",
    "for threshold in thresholds:\n",
    "    predict_positive_threshold = (y_val_pred_prod >= threshold)\n",
    "    predict_negative_threshold = (y_val_pred_prod < threshold)\n",
    "\n",
    "    tp_threshold = (predict_positive_threshold & actual_positive).sum()\n",
    "    tn_threshold = (predict_negative_threshold & actual_negative).sum()\n",
    "\n",
    "    fp_threshold = (predict_positive_threshold & actual_negative).sum()\n",
    "    fn_threshold = (predict_negative_threshold & actual_positive).sum()\n",
    "    true_positives.append(tp_threshold)\n",
    "    true_negatives.append(tn_threshold)\n",
    "    false_positives.append(fp_threshold)\n",
    "    false_negatives.append(fn_threshold)\n",
    "\n",
    "threshold_df = pd.DataFrame({'threshold': thresholds,'true_positives': true_positives, 'true_negatives': true_negatives,\n",
    "                            'false_positives': false_positives, 'false_negatives': false_negatives})\n",
    "\n",
    "threshold_df['precision'] = threshold_df.true_positives/(threshold_df.true_positives + threshold_df.false_positives)\n",
    "threshold_df['recall'] = threshold_df.true_positives/(threshold_df.true_positives + threshold_df.false_negatives)\n",
    "\n",
    "plt.plot(threshold_df.threshold, threshold_df.precision, label = 'precision')\n",
    "plt.plot(threshold_df.threshold, threshold_df.recall, label = 'recall')\n",
    "plt.legend()"
   ]
  },
  {
   "cell_type": "markdown",
   "id": "2a487f60",
   "metadata": {},
   "source": [
    "### Question 4: F1 score\n",
    "\n",
    "Precision and recall are conflicting - when one grows, the other goes down. That's why they are often combined into the F1 score - a metrics that takes into account both\n",
    "\n",
    "This is the formula for computing F1:\n",
    "$$\n",
    "F1 = 2 ⋅ \\frac{P ⋅ R}{P + R}\n",
    "$$\n",
    "\n",
    "Where P is precision and  R is recall.\n",
    "\n",
    "Let's compute F1 for all thresholds from 0.0 to 1.0 with increment 0.01\n",
    "\n",
    "At which threshold F1 is maximal?"
   ]
  },
  {
   "cell_type": "code",
   "execution_count": 18,
   "id": "eb92d0d4",
   "metadata": {},
   "outputs": [
    {
     "data": {
      "text/plain": [
       "<matplotlib.legend.Legend at 0x20061f21790>"
      ]
     },
     "execution_count": 18,
     "metadata": {},
     "output_type": "execute_result"
    },
    {
     "data": {
      "image/png": "[encoded data removed]",
      "text/plain": [
       "<Figure size 640x480 with 1 Axes>"
      ]
     },
     "metadata": {},
     "output_type": "display_data"
    }
   ],
   "source": [
    "threshold_df['f1_score'] = 2 * (threshold_df.precision * threshold_df.recall)/(threshold_df.precision + threshold_df.recall)\n",
    "\n",
    "plt.plot(threshold_df.threshold, threshold_df.f1_score, label = 'f1_score')\n",
    "plt.legend()"
   ]
  },
  {
   "cell_type": "code",
   "execution_count": 19,
   "metadata": {},
   "outputs": [
    {
     "data": {
      "application/vnd.microsoft.datawrangler.viewer.v0+json": {
       "columns": [
        {
         "name": "index",
         "rawType": "int64",
         "type": "integer"
        },
        {
         "name": "threshold",
         "rawType": "float64",
         "type": "float"
        },
        {
         "name": "true_positives",
         "rawType": "int64",
         "type": "integer"
        },
        {
         "name": "true_negatives",
         "rawType": "int64",
         "type": "integer"
        },
        {
         "name": "false_positives",
         "rawType": "int64",
         "type": "integer"
        },
        {
         "name": "false_negatives",
         "rawType": "int64",
         "type": "integer"
        },
        {
         "name": "precision",
         "rawType": "float64",
         "type": "float"
        },
        {
         "name": "recall",
         "rawType": "float64",
         "type": "float"
        },
        {
         "name": "f1_score",
         "rawType": "float64",
         "type": "float"
        }
       ],
       "ref": "34701f0b-e80a-4ecd-b2ca-c14abe0bf000",
       "rows": [
        [
         "52",
         "0.52",
         "151",
         "100",
         "22",
         "20",
         "0.8728323699421965",
         "0.8830409356725146",
         "0.877906976744186"
        ]
       ],
       "shape": {
        "columns": 8,
        "rows": 1
       }
      },
      "text/html": [
       "<div>\n",
       "<style scoped>\n",
       "    .dataframe tbody tr th:only-of-type {\n",
       "        vertical-align: middle;\n",
       "    }\n",
       "\n",
       "    .dataframe tbody tr th {\n",
       "        vertical-align: top;\n",
       "    }\n",
       "\n",
       "    .dataframe thead th {\n",
       "        text-align: right;\n",
       "    }\n",
       "</style>\n",
       "<table border=\"1\" class=\"dataframe\">\n",
       "  <thead>\n",
       "    <tr style=\"text-align: right;\">\n",
       "      <th></th>\n",
       "      <th>threshold</th>\n",
       "      <th>true_positives</th>\n",
       "      <th>true_negatives</th>\n",
       "      <th>false_positives</th>\n",
       "      <th>false_negatives</th>\n",
       "      <th>precision</th>\n",
       "      <th>recall</th>\n",
       "      <th>f1_score</th>\n",
       "    </tr>\n",
       "  </thead>\n",
       "  <tbody>\n",
       "    <tr>\n",
       "      <th>52</th>\n",
       "      <td>0.52</td>\n",
       "      <td>151</td>\n",
       "      <td>100</td>\n",
       "      <td>22</td>\n",
       "      <td>20</td>\n",
       "      <td>0.872832</td>\n",
       "      <td>0.883041</td>\n",
       "      <td>0.877907</td>\n",
       "    </tr>\n",
       "  </tbody>\n",
       "</table>\n",
       "</div>"
      ],
      "text/plain": [
       "    threshold  true_positives  true_negatives  false_positives  \\\n",
       "52       0.52             151             100               22   \n",
       "\n",
       "    false_negatives  precision    recall  f1_score  \n",
       "52               20   0.872832  0.883041  0.877907  "
      ]
     },
     "execution_count": 19,
     "metadata": {},
     "output_type": "execute_result"
    }
   ],
   "source": [
    "threshold_df[threshold_df.f1_score == threshold_df.f1_score.max()]"
   ]
  },
  {
   "cell_type": "markdown",
   "id": "63417d97",
   "metadata": {},
   "source": [
    "### Question 5: 5-Fold CV\n",
    "\n",
    "Use the KFold class from Scikit-Learn to evaluate our model on 5 different folds:\n",
    "\n",
    "<code>KFold(n_splits=5, shuffle=True, random_state=1)</code>\n",
    "\n",
    "- Iterate over different folds of <code>df_full_train</code>\n",
    "- Split the data into train and validation\n",
    "- Train the model on train with these parameters: <code>LogisticRegression(solver='liblinear', C=1.0, max_iter=1000)</code>\n",
    "- Use AUC to evaluate the model on validation\n",
    "\n",
    "How large is standard deviation of the scores across different folds?"
   ]
  },
  {
   "cell_type": "code",
   "execution_count": 20,
   "id": "84266872",
   "metadata": {},
   "outputs": [],
   "source": [
    "from sklearn.model_selection import KFold"
   ]
  },
  {
   "cell_type": "code",
   "execution_count": 21,
   "id": "dde99130",
   "metadata": {},
   "outputs": [],
   "source": [
    "def k_fold_train(train_df, y_train, C=1, iter=1000):\n",
    "    train_dicts = train_df[categorical_variables + numerical_variables].to_dict(orient='records')\n",
    "    dv = DictVectorizer(sparse=False)\n",
    "    X_train = dv.fit_transform(train_dicts)\n",
    "\n",
    "    model = LogisticRegression(solver='liblinear', C=C, max_iter=iter)\n",
    "    model.fit(X_train, y_train)\n",
    "\n",
    "    return dv, model"
   ]
  },
  {
   "cell_type": "code",
   "execution_count": 22,
   "id": "f50189e8",
   "metadata": {},
   "outputs": [],
   "source": [
    "def k_fold_pred(test_df, dv, model):\n",
    "    test_dicts = test_df[categorical_variables + numerical_variables].to_dict(orient='records')\n",
    "    X_test = dv.transform(test_dicts)\n",
    "    y_test_pred = model.predict_proba(X_test)[:, 1]\n",
    "\n",
    "    return y_test_pred"
   ]
  },
  {
   "cell_type": "code",
   "execution_count": 32,
   "id": "0570bf8e",
   "metadata": {},
   "outputs": [
    {
     "name": "stdout",
     "output_type": "stream",
     "text": [
      "Average score 0.8221089148573075 and standard deviation 0.03580711942905165\n"
     ]
    }
   ],
   "source": [
    "kfold = KFold(n_splits=5, shuffle=True, random_state=1)\n",
    "scores = []\n",
    "for train_idx, val_idx in kfold.split(data_train_full):\n",
    "    train_df = data_train_full.iloc[train_idx]\n",
    "    val_df = data_train_full.iloc[val_idx] \n",
    "\n",
    "    y_train = train_df.converted.values\n",
    "    y_val = val_df.converted.values\n",
    "\n",
    "    dv, model = k_fold_train(train_df, y_train)\n",
    "    y_pred = k_fold_pred(val_df, dv, model)\n",
    "\n",
    "    auc = roc_auc_score(y_val, y_pred)\n",
    "    scores.append(auc)\n",
    "print(f\"Average score {np.mean(scores)} and standard deviation {np.std(scores)}\")"
   ]
  },
  {
   "cell_type": "markdown",
   "id": "57ea43f0",
   "metadata": {},
   "source": [
    "### Question 6: Hyperparameter Tuning\n",
    "Now let's use 5-Fold cross-validation to find the best parameter C\n",
    "\n",
    "- Iterate over the following C values: <code>[0.000001, 0.001, 1]</code>\n",
    "- Initialize KFold with the same parameters as previously\n",
    "- Use these parameters for the model: <code> LogisticRegression(solver='liblinear', C=C, max_iter=1000) </code>\n",
    "- Compute the mean score as well as the std (round the mean and std to 3 decimal digits)\n",
    "\n",
    "Which C leads to the best mean score?"
   ]
  },
  {
   "cell_type": "code",
   "execution_count": 31,
   "id": "5d62782d",
   "metadata": {},
   "outputs": [
    {
     "name": "stdout",
     "output_type": "stream",
     "text": [
      "1e-06 average score 0.56 and standard deviation 0.024\n",
      "0.001 average score 0.867 and standard deviation 0.029\n",
      "1 average score 0.822 and standard deviation 0.036\n"
     ]
    }
   ],
   "source": [
    "for C in [0.000001, 0.001, 1]:\n",
    "    kfold = KFold(n_splits=5, shuffle=True, random_state=1)\n",
    "    scores = []\n",
    "    for train_idx, val_idx in kfold.split(data_train_full):\n",
    "        train_df = data_train_full.iloc[train_idx]\n",
    "        val_df = data_train_full.iloc[val_idx] \n",
    "\n",
    "        y_train = train_df.converted.values\n",
    "        y_val = val_df.converted.values\n",
    "\n",
    "        dv, model = k_fold_train(train_df, y_train, C)\n",
    "        y_pred = k_fold_pred(val_df, dv, model)\n",
    "\n",
    "        auc = roc_auc_score(y_val, y_pred)\n",
    "        scores.append(auc)\n",
    "    print(f\"{C} average score {round(np.mean(scores), 3)} and standard deviation {round(np.std(scores), 3)}\")"
   ]
  },
  {
   "cell_type": "code",
   "execution_count": null,
   "id": "416642fe",
   "metadata": {},
   "outputs": [],
   "source": []
  },
  {
   "cell_type": "code",
   "execution_count": null,
   "id": "e67c66c6",
   "metadata": {},
   "outputs": [],
   "source": []
  }
 ],
 "metadata": {
  "kernelspec": {
   "display_name": "ml-zoomcamp",
   "language": "python",
   "name": "python3"
  },
  "language_info": {
   "codemirror_mode": {
    "name": "ipython",
    "version": 3
   },
   "file_extension": ".py",
   "mimetype": "text/x-python",
   "name": "python",
   "nbconvert_exporter": "python",
   "pygments_lexer": "ipython3",
   "version": "3.11.2"
  }
 },
 "nbformat": 4,
 "nbformat_minor": 5
}
